{
 "cells": [
  {
   "cell_type": "code",
   "execution_count": 1,
   "metadata": {
    "scrolled": true
   },
   "outputs": [
    {
     "data": {
      "application/javascript": [
       "require.undef(\"nbextensions/vpython_libraries/glow.min\");"
      ],
      "text/plain": [
       "<IPython.core.display.Javascript object>"
      ]
     },
     "metadata": {},
     "output_type": "display_data"
    },
    {
     "data": {
      "application/javascript": [
       "require.undef(\"nbextensions/vpython_libraries/glowcomm\");"
      ],
      "text/plain": [
       "<IPython.core.display.Javascript object>"
      ]
     },
     "metadata": {},
     "output_type": "display_data"
    },
    {
     "data": {
      "application/javascript": [
       "require.undef(\"nbextensions/vpython_libraries/jquery-ui.custom.min\");"
      ],
      "text/plain": [
       "<IPython.core.display.Javascript object>"
      ]
     },
     "metadata": {},
     "output_type": "display_data"
    },
    {
     "data": {
      "application/javascript": [
       "require([\"nbextensions/vpython_libraries/glow.min\"], function(){console.log(\"GLOW LOADED\");})"
      ],
      "text/plain": [
       "<IPython.core.display.Javascript object>"
      ]
     },
     "metadata": {},
     "output_type": "display_data"
    },
    {
     "data": {
      "application/javascript": [
       "require([\"nbextensions/vpython_libraries/glowcomm\"], function(){console.log(\"GLOWCOMM LOADED\");})"
      ],
      "text/plain": [
       "<IPython.core.display.Javascript object>"
      ]
     },
     "metadata": {},
     "output_type": "display_data"
    },
    {
     "data": {
      "application/javascript": [
       "require([\"nbextensions/vpython_libraries/jquery-ui.custom.min\"], function(){console.log(\"JQUERY LOADED\");})"
      ],
      "text/plain": [
       "<IPython.core.display.Javascript object>"
      ]
     },
     "metadata": {},
     "output_type": "display_data"
    },
    {
     "data": {
      "text/html": [
       "<div id=\"glowscript\" class=\"glowscript\"></div>"
      ],
      "text/plain": [
       "<IPython.core.display.HTML object>"
      ]
     },
     "metadata": {},
     "output_type": "display_data"
    },
    {
     "data": {
      "application/javascript": [
       "window.__context = { glowscript_container: $(\"#glowscript\").removeAttr(\"id\")}"
      ],
      "text/plain": [
       "<IPython.core.display.Javascript object>"
      ]
     },
     "metadata": {},
     "output_type": "display_data"
    },
    {
     "name": "stdout",
     "output_type": "stream",
     "text": [
      "Enter the row number of the pixel you would like to be the origin (begin counting at 1): 3\n",
      "Enter the column number of the pixel you would like to be the origin (begin counting at 1): 3\n",
      "Enter the dimension of your matrix (N): 3\n"
     ]
    },
    {
     "data": {
      "text/plain": [
       "[[-0.13133940182054615, -0.13914174252275682],\n",
       " [0.02726898914959989, 0.02639861868016405]]"
      ]
     },
     "execution_count": 1,
     "metadata": {},
     "output_type": "execute_result"
    }
   ],
   "source": [
    "import numpy as np\n",
    "from vpython import *\n",
    "\n",
    "#input: 2D array (matrix)\n",
    "#output: a list of the sums of pixels in each row, a list of the sums of pixels in each column,\n",
    "#         and the total sum of pixels in the matrix\n",
    "def rowColTotalSums(matrix):\n",
    "    rowSums = []\n",
    "    columnSums = []\n",
    "    total = 0\n",
    "    for i in range(0, len(matrix)):\n",
    "        rowSum = 0\n",
    "        columnSum = 0\n",
    "        for j in range(0, len(matrix)):\n",
    "            rowSum += matrix[i][j]\n",
    "            columnSum += matrix[j][i]\n",
    "            total += matrix[i][j]\n",
    "        rowSums.append(rowSum)\n",
    "        columnSums.append(columnSum)\n",
    "    return [rowSums, columnSums, total]\n",
    "\n",
    "#input: 2D array (matrix)\n",
    "#output: the x- and y-coordinates of the centroid of the matrix\n",
    "def centroid(matrix):\n",
    "    rowSums = rowColTotalSums(matrix)[0]\n",
    "    columnSums = rowColTotalSums(matrix)[1]\n",
    "    total = rowColTotalSums(matrix)[2]\n",
    "    \n",
    "    center = (len(matrix) - 1) / 2.\n",
    "    \n",
    "    xCM = 0\n",
    "    yCM = 0\n",
    "    for i in range(0, len(matrix)):\n",
    "        xCM += (i - center) * columnSums[i]\n",
    "        yCM += (-i + center) * rowSums[i]\n",
    "    xCM /= total\n",
    "    yCM /= total\n",
    "    \n",
    "    return [xCM, yCM]\n",
    "\n",
    "#input: 2D array (matrix)\n",
    "#output: the uncertainties of the x- and y-coordinates of the centroid of the matrix\n",
    "def centUncertainty(matrix):\n",
    "    xCM = centroid(matrix)[0]\n",
    "    yCM = centroid(matrix)[1]\n",
    "    \n",
    "    rowSums = rowColTotalSums(matrix)[0]\n",
    "    columnSums = rowColTotalSums(matrix)[1]\n",
    "    total = rowColTotalSums(matrix)[2]\n",
    "    \n",
    "    center = (len(matrix) - 1) / 2.\n",
    "    \n",
    "    deltaxCM = 0\n",
    "    deltayCM = 0\n",
    "    for i in range(0, len(matrix)):\n",
    "        deltaxCM += (i - center - xCM)**2 * columnSums[i]\n",
    "        deltayCM += (-i + center - yCM)**2 * rowSums[i]\n",
    "    \n",
    "    deltaxCM /= total**2\n",
    "    deltayCM /= total**2\n",
    "    \n",
    "    deltaxCM = deltaxCM**(0.5)\n",
    "    deltayCM = deltayCM**(0.5)\n",
    "    \n",
    "    return [deltaxCM, deltayCM]\n",
    "\n",
    "#input: a string of the name of the text file containing the matrix\n",
    "#output: a float 2D array of the values in the matrix in the text file\n",
    "def readMatrix(fileName):\n",
    "    mFile = open(fileName, 'r')\n",
    "    lines = []\n",
    "    matrix = []\n",
    "    for line in mFile:\n",
    "        lines.append(line)\n",
    "    for i in range(0, len(lines)):\n",
    "        stripped = lines[i].strip()\n",
    "        row = stripped.split()\n",
    "        for i in range(0, len(row)):\n",
    "            row[i] = float(row[i])\n",
    "        matrix.append(row)\n",
    "    return matrix\n",
    "\n",
    "#input: a 2D array (matrix), the coordinates of the origin, the dimension of the sub-matrix (N)\n",
    "#output: a 2D array (the sub-matrix) centered on the specified origin\n",
    "def miniMatrix(matrix, originRow, originCol, N):\n",
    "    mini = []\n",
    "    for i in range(originRow - 1 - (N / 2), originRow + (N / 2)):\n",
    "        row = []\n",
    "        for j in range(originCol - 1 -(N / 2), originCol + (N / 2)):\n",
    "            row.append(matrix[i][j])\n",
    "        mini.append(row)\n",
    "    return mini\n",
    "\n",
    "#input: a string of the name of the text file containing the matrix\n",
    "#output: a list containing the centroid coordinates list and the centroid coordinates' uncertainties list\n",
    "def findCentroid(fileName):\n",
    "    matrix = readMatrix(fileName)\n",
    "    \n",
    "    originX = input(\"Enter the row number of the pixel you would like to be the origin (begin counting at 1): \")\n",
    "    originY = input(\"Enter the column number of the pixel you would like to be the origin (begin counting at 1): \")\n",
    "    N = input(\"Enter the dimension of your matrix (N): \")\n",
    "    \n",
    "    mini = miniMatrix(matrix, originX, originY, N)\n",
    "    \n",
    "    visualization(matrix)\n",
    "    \n",
    "    return [centroid(mini), centUncertainty(mini)]\n",
    "\n",
    "#input: a 2D array (matrix)\n",
    "#output: the maximum value in the array\n",
    "def maxValue(matrix):\n",
    "    maxN = 0\n",
    "    for i in range(0, len(matrix)):\n",
    "        for j in range(0, len(matrix[0])):\n",
    "            if matrix[i][j] > maxN:\n",
    "                maxN = matrix[i][j]\n",
    "    return maxN\n",
    "\n",
    "#input: a 2D array (matrix) and the sub-matrix\n",
    "#output: visualization of pixel array with centroid indicated\n",
    "def visualization(matrix):\n",
    "    N = len(matrix)\n",
    "    n = 100\n",
    "    start = n / (2. * N)\n",
    "    step_size = n / float(N)\n",
    "    for x in np.arange(start, n + start,  step_size):\n",
    "        for y in np.arange(n - start , start - step_size,  -step_size):\n",
    "            \n",
    "            box(pos = vec(x - n / 2., y - n / 2., 0), length = step_size - 2, height = step_size - 2, color = color.black)\n",
    "            \n",
    "            xindex = int((x - start) / step_size)\n",
    "            yindex = int((y - start) / step_size)\n",
    "            sphere(pos = vec(x - n / 2., -y + n / 2., 0), radius = (matrix[yindex][xindex]*1.0 / maxValue(matrix) * step_size / 2.), color = color.white) \n",
    "            \n",
    "    arrow(pos = vec(step_size * centroid(matrix)[0],step_size * centroid(matrix)[1], 0), axis = vec(0,0,n/5), shaftwidth = n/25, color = color.red)\n",
    "    \n",
    "                   \n",
    "\n",
    "#TEST    \n",
    "\n",
    "#test = [[0, 33, 21, 33, 8], [0, 56, 51, 53, 26], [23, 120, 149, 73, 18], [55, 101, 116, 50, 16], [11, 78, 26, 2, 10]]\n",
    "#print maxValue(test)\n",
    "#visualization(test) \n",
    "#print centroid(test, \"center\", \"center\")\n",
    "#print centUncertainty(test, \"center\", \"center\")\n",
    "\n",
    "findCentroid(\"centroidTest.txt\")\n"
   ]
  },
  {
   "cell_type": "code",
   "execution_count": null,
   "metadata": {
    "collapsed": true
   },
   "outputs": [],
   "source": []
  }
 ],
 "metadata": {
  "kernelspec": {
   "display_name": "Python 2",
   "language": "python",
   "name": "python2"
  },
  "language_info": {
   "codemirror_mode": {
    "name": "ipython",
    "version": 2
   },
   "file_extension": ".py",
   "mimetype": "text/x-python",
   "name": "python",
   "nbconvert_exporter": "python",
   "pygments_lexer": "ipython2",
   "version": "2.7.13"
  }
 },
 "nbformat": 4,
 "nbformat_minor": 2
}
